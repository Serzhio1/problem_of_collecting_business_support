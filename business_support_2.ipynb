{
 "cells": [
  {
   "cell_type": "code",
   "execution_count": 1,
   "id": "6c40d108",
   "metadata": {},
   "outputs": [],
   "source": [
    "from selenium.webdriver import Chrome\n",
    "from selenium.webdriver.common.keys import Keys\n",
    "from selenium.webdriver.support.ui import WebDriverWait as wait\n",
    "from selenium.webdriver.support import expected_conditions as EC\n",
    "from selenium.common.exceptions import NoSuchElementException\n",
    "from selenium.webdriver.common.by import By\n",
    "from selenium.webdriver.common.action_chains import ActionChains\n",
    "from bs4 import BeautifulSoup\n",
    "import requests\n",
    "import pandas as pd\n",
    "from tqdm import tqdm \n",
    "from time import sleep"
   ]
  },
  {
   "cell_type": "markdown",
   "id": "ad336434",
   "metadata": {},
   "source": [
    "**собираем названия всех региональных центров с 2-ух источников**"
   ]
  },
  {
   "cell_type": "code",
   "execution_count": 2,
   "id": "6c8b4328",
   "metadata": {},
   "outputs": [
    {
     "name": "stdout",
     "output_type": "stream",
     "text": [
      "{'Майкоп', 'Красноярск', 'Брянск', 'Екатеринбург', 'Нижний Новгород', 'Якутск', 'Владимир', 'Уфа', 'Новосибирск', 'Улан-Удэ', 'Кызыл', 'Анадырь', 'Сыктывкар', 'Краснодар', 'Саранск', 'Волгоград', 'Магадан', 'Ульяновск', 'Архангельск', 'Ижевск', 'Барнаул', 'Йошкар-Ола', 'Хабаровск', 'Биробиджан', 'Черкесск', 'Пермь', 'Абакан', 'Грозный', 'Иркутск', 'Ярославль', 'Омск', 'Челябиннск', 'Южно-Сахалинск', 'Самара', 'Калининград', 'Вологда', 'Тверь', 'Киров', 'Псков', 'Санкт-Петербург', 'Москва', 'Белгород', 'Ханты-мансийск', 'Владивосток', 'Мурманск', 'Рязань', 'Тула', 'Чита', 'Калуга', 'Тамбов', 'Махачкала', 'Орел', 'Курск', 'Астрахань', 'Петропавловск-Камчатский', 'Ростов', 'Липецк', 'Воронеж', 'Оренбург', 'Кемерово', 'Нальчик', 'Смоленск', 'Элиста', 'Чебоксары', 'Магас', 'Владивкавказ', 'Иваново', 'Ставрополь', 'Горно-Алтайск', 'Салехард', 'Петрозаводск', 'Саратов', 'Курган', 'Пенза', 'Казань', 'Благовещенск', 'Томск', 'Великий Новгород', 'Тюмень', 'Кострома'}\n",
      "\n",
      "80\n"
     ]
    }
   ],
   "source": [
    "# собираем названия регионалльных центров с 1-ого источника: https://marketing-course.ru/administrativnye-centry-regionov/\n",
    "regional_centers_1 = set() # множество, т.к. у некоторых различных регионов одинаковые центры \n",
    "my_response = requests.get('https://marketing-course.ru/administrativnye-centry-regionov/').text\n",
    "soup = BeautifulSoup(my_response, 'lxml')\n",
    "table = soup.find_all('table')[0]\n",
    "list_regions_info = table.find_all('tr')[1:]\n",
    "for region in list_regions_info:\n",
    "    title_regional_center = region.find_all('td')[3].text\n",
    "    regional_centers_1.add(title_regional_center)\n",
    "print(regional_centers_1, end=\"\\n\\n\")\n",
    "print(len(regional_centers_1))"
   ]
  },
  {
   "cell_type": "code",
   "execution_count": 3,
   "id": "8d5e654c",
   "metadata": {},
   "outputs": [
    {
     "name": "stdout",
     "output_type": "stream",
     "text": [
      "{'Майкоп', 'Красноярск', 'Якутск', 'Брянск', 'Нижний Новгород', 'Екатеринбург', 'Владимир', 'Уфа', 'Новосибирск', 'Улан-Удэ', 'Кызыл', 'Анадырь', 'Сыктывкар', 'Краснодар', 'Саранск', 'Волгоград', 'Магадан', 'Ульяновск', 'Архангельск', 'Ижевск', 'пгт Усть-Ордынский', 'Барнаул', 'Новгород', 'Йошкар-Ола', 'Хабаровск', 'Биробиджан', 'Черкесск', 'Пермь', 'Абакан', 'Дудинка', 'Грозный', 'Иркутск', 'Ярославль', 'Омск', 'Южно-Сахалинск', 'Самара', 'Ханты-Мансийск', 'Калининград', 'Вологда', 'Тверь', 'Киров', 'Псков', 'Санкт-Петербург', 'Назрань', 'Москва', 'Белгород', 'Владивосток', 'Мурманск', 'Рязань', 'Нарьян-Мар', 'Тула', 'Чита', 'Калуга', 'пгт Агинское', 'Махачкала', 'Тамбов', 'Орел', 'Курск', 'Астрахань', 'Петропавловск-Камчатский', 'пгт Тура', 'Липецк', 'Воронеж', 'Оренбург', 'Кемерово', 'Нальчик', 'Элиста', 'Смоленск', 'Чебоксары', 'Челябинск', 'Ставрополь', 'Иваново', 'Горно-Алтайск', 'Кудымкар', 'Ростов-на-Дону', 'пгт Палана', 'Салехард', 'Петрозаводск', 'Саратов', 'Курган', 'Пенза', 'Владикавказ', 'Казань', 'Благовещенск', 'Томск', 'Тюмень', 'Кострома'}\n",
      "\n",
      "87\n"
     ]
    }
   ],
   "source": [
    "# собираем названия регионалльных центров со 2-ого источника: https://se33.ru/2-uncategorised/378-regions.html\n",
    "regional_centers_2 = set() \n",
    "my_response = requests.get('https://se33.ru/2-uncategorised/378-regions.html').text\n",
    "soup = BeautifulSoup(my_response, 'lxml')\n",
    "table = soup.find('table')\n",
    "list_regions_info = table.find_all('tr')[1:]\n",
    "for region in list_regions_info:\n",
    "    title_regional_center = region.find_all('td')[3].text\n",
    "    regional_centers_2.add(title_regional_center)\n",
    "print(regional_centers_2, end=\"\\n\\n\")\n",
    "print(len(regional_centers_2))"
   ]
  },
  {
   "cell_type": "markdown",
   "id": "c153880c",
   "metadata": {},
   "source": [
    "**объединяем оба множества (union)**"
   ]
  },
  {
   "cell_type": "code",
   "execution_count": 4,
   "id": "b322a3bb",
   "metadata": {},
   "outputs": [
    {
     "name": "stdout",
     "output_type": "stream",
     "text": [
      "{'Майкоп', 'Красноярск', 'Брянск', 'Екатеринбург', 'Нижний Новгород', 'Якутск', 'Владимир', 'Уфа', 'Новосибирск', 'Улан-Удэ', 'Кызыл', 'Анадырь', 'Сыктывкар', 'Краснодар', 'Саранск', 'Волгоград', 'Магадан', 'Ульяновск', 'Архангельск', 'Ижевск', 'пгт Усть-Ордынский', 'Барнаул', 'Йошкар-Ола', 'Хабаровск', 'Новгород', 'Биробиджан', 'Черкесск', 'Пермь', 'Абакан', 'Дудинка', 'Грозный', 'Иркутск', 'Ярославль', 'Омск', 'Челябиннск', 'Южно-Сахалинск', 'Самара', 'Ханты-Мансийск', 'Калининград', 'Вологда', 'Тверь', 'Псков', 'Киров', 'Санкт-Петербург', 'Назрань', 'Москва', 'Белгород', 'Ханты-мансийск', 'Владивосток', 'Мурманск', 'Рязань', 'Нарьян-Мар', 'Тула', 'Чита', 'Калуга', 'пгт Агинское', 'Тамбов', 'Махачкала', 'Орел', 'Курск', 'Астрахань', 'Петропавловск-Камчатский', 'Ростов', 'пгт Тура', 'Липецк', 'Воронеж', 'Оренбург', 'Кемерово', 'Нальчик', 'Смоленск', 'Элиста', 'Чебоксары', 'Магас', 'Челябинск', 'Владивкавказ', 'Иваново', 'Ставрополь', 'Горно-Алтайск', 'Кудымкар', 'Ростов-на-Дону', 'пгт Палана', 'Салехард', 'Петрозаводск', 'Саратов', 'Курган', 'Пенза', 'Владикавказ', 'Казань', 'Благовещенск', 'Томск', 'Великий Новгород', 'Тюмень', 'Кострома'}\n",
      "\n",
      "93\n"
     ]
    }
   ],
   "source": [
    "all_regional_centers = regional_centers_1.union(regional_centers_2)\n",
    "print(all_regional_centers, end='\\n\\n')\n",
    "print(len(all_regional_centers))"
   ]
  },
  {
   "cell_type": "code",
   "execution_count": 5,
   "id": "f615f590",
   "metadata": {},
   "outputs": [],
   "source": [
    "titles = []\n",
    "adresses = []\n",
    "websites = []\n",
    "phone_numbers = []\n",
    "emails = []"
   ]
  },
  {
   "cell_type": "code",
   "execution_count": 6,
   "id": "a36e7c12",
   "metadata": {},
   "outputs": [],
   "source": [
    "def input_info(): # поиск информации\n",
    "    input_tab = browser.find_element(By.XPATH, \"/html/body/div[2]/div[2]/div[2]/div[2]/div[2]/div[2]/div/div/input\")\n",
    "    input_tab.send_keys(regional_center)\n",
    "    \n",
    "def click_search_button(): # нажатие на кнопку поиска\n",
    "    search_button = browser.find_element(By.XPATH, \"/html/body/div[2]/div[2]/div[2]/div[2]/div[2]/div[2]/div/div/button[2]\")\n",
    "    search_button.click()\n",
    "\n",
    "def click_clear_info_button(): # нажатие на кнопку удаления текста в области поиска\n",
    "    clear_info_button = browser.find_element(By.XPATH, '/html/body/div[2]/div[2]/div[2]/div[2]/div[2]/div[2]/div/div/button[1]')\n",
    "    clear_info_button.click()\n",
    "    \n",
    "    \n",
    "def collect_data(): # сбор всех данных(адрес, сайт, телефон, почта) с найденного представителя поддержки бизнеса \n",
    "    try:\n",
    "        title = browser.find_element(By.XPATH, '//*[@id=\"map\"]/div[1]/div[6]/div/div/div/div/div/div/div').text\n",
    "        adress = browser.find_element(By.XPATH, '//*[@id=\"map\"]/div[1]/div[6]/div/div/div/div/div/div/table/tbody/tr[1]/td[2]').text\n",
    "        website = browser.find_element(By.XPATH, '//*[@id=\"map\"]/div[1]/div[6]/div/div/div/div/div/div/table/tbody/tr[2]/td[2]/a').get_attribute('href')\n",
    "        phone = browser.find_element(By.XPATH, '//*[@id=\"map\"]/div[1]/div[6]/div/div/div/div/div/div/table/tbody/tr[3]/td[2]').text\n",
    "        email = browser.find_element(By.XPATH, '//*[@id=\"map\"]/div[1]/div[6]/div/div/div/div/div/div/table/tbody/tr[4]/td[2]/a').text\n",
    "    except NoSuchElementException:\n",
    "        title = None\n",
    "        adress = None\n",
    "        website = None\n",
    "        phone = None\n",
    "        email = None \n",
    "    titles.append(title)\n",
    "    adresses.append(adress)\n",
    "    websites.append(website)\n",
    "    phone_numbers.append(phone)\n",
    "    emails.append(email)"
   ]
  },
  {
   "cell_type": "code",
   "execution_count": 8,
   "id": "8aabc35d",
   "metadata": {},
   "outputs": [],
   "source": [
    "browser = Chrome()\n",
    "url = 'https://xn--l1agf.xn--p1ai/services/reg-support-map/'\n",
    "browser.maximize_window() \n",
    "browser.get(url)\n",
    "sleep(1) # пауза, чтобы страницы успела прогрузиться \n",
    "for regional_center in all_regional_centers:\n",
    "    input_info()\n",
    "    click_search_button()\n",
    "    sleep(0.8)\n",
    "    collect_data()\n",
    "    click_clear_info_button()"
   ]
  },
  {
   "cell_type": "code",
   "execution_count": 9,
   "id": "2c1c3932",
   "metadata": {},
   "outputs": [],
   "source": [
    "data = {'название': titles, 'адрес': adresses, 'сайт': websites, 'телефон': phone_numbers, 'почта': emails}\n",
    "df = pd.DataFrame(data=data)"
   ]
  },
  {
   "cell_type": "code",
   "execution_count": 10,
   "id": "713be8e3",
   "metadata": {},
   "outputs": [
    {
     "data": {
      "text/html": [
       "<div>\n",
       "<style scoped>\n",
       "    .dataframe tbody tr th:only-of-type {\n",
       "        vertical-align: middle;\n",
       "    }\n",
       "\n",
       "    .dataframe tbody tr th {\n",
       "        vertical-align: top;\n",
       "    }\n",
       "\n",
       "    .dataframe thead th {\n",
       "        text-align: right;\n",
       "    }\n",
       "</style>\n",
       "<table border=\"1\" class=\"dataframe\">\n",
       "  <thead>\n",
       "    <tr style=\"text-align: right;\">\n",
       "      <th></th>\n",
       "      <th>название</th>\n",
       "      <th>адрес</th>\n",
       "      <th>сайт</th>\n",
       "      <th>телефон</th>\n",
       "      <th>почта</th>\n",
       "    </tr>\n",
       "  </thead>\n",
       "  <tbody>\n",
       "    <tr>\n",
       "      <th>0</th>\n",
       "      <td></td>\n",
       "      <td></td>\n",
       "      <td>http://xn--01-9kcqjffxnf3b.xn--p1ai/</td>\n",
       "      <td></td>\n",
       "      <td></td>\n",
       "    </tr>\n",
       "    <tr>\n",
       "      <th>1</th>\n",
       "      <td>АНО \"ЦПП РА\"</td>\n",
       "      <td>Республика Адыгея, Майкоп, Пионерская, 324, 38...</td>\n",
       "      <td>http://xn--01-9kcqjffxnf3b.xn--p1ai/</td>\n",
       "      <td>88002010175</td>\n",
       "      <td>cpp_01@mail.ru</td>\n",
       "    </tr>\n",
       "    <tr>\n",
       "      <th>2</th>\n",
       "      <td>АНО \"ККЦРБ МКК\"</td>\n",
       "      <td>Красноярский край, Красноярск, Александра Матр...</td>\n",
       "      <td>http://xn---24-9cdulgg0aog6b.xn--p1ai/</td>\n",
       "      <td>+7 391 205-44-32 доб. 046</td>\n",
       "      <td>mb-info@mb24.ru</td>\n",
       "    </tr>\n",
       "    <tr>\n",
       "      <th>3</th>\n",
       "      <td>ГАУ БО ЦОУ «Мой бизнес»</td>\n",
       "      <td>Брянская, Брянск, Бежицкая, 54, 241023</td>\n",
       "      <td>https://xn--32-9kcqjffxnf3b.xn--p1ai/</td>\n",
       "      <td>+7 (4832) 58-92-77</td>\n",
       "      <td>info@mybiz32.ru</td>\n",
       "    </tr>\n",
       "    <tr>\n",
       "      <th>4</th>\n",
       "      <td>Фонд СОФПП (МКК)</td>\n",
       "      <td>Свердловская область, Екатеринбург, Восточная,...</td>\n",
       "      <td>http://sofp.ru/</td>\n",
       "      <td>+7 343 288-77-85</td>\n",
       "      <td>sof@sofp.ru</td>\n",
       "    </tr>\n",
       "    <tr>\n",
       "      <th>...</th>\n",
       "      <td>...</td>\n",
       "      <td>...</td>\n",
       "      <td>...</td>\n",
       "      <td>...</td>\n",
       "      <td>...</td>\n",
       "    </tr>\n",
       "    <tr>\n",
       "      <th>89</th>\n",
       "      <td>Фонд содействия кредитованию СМСП Амурской обл...</td>\n",
       "      <td>Амурская обл, г Благовещенск, ул Амурская, 38,...</td>\n",
       "      <td>http://www.business.amurobl.ru./</td>\n",
       "      <td>+7 416 277-26-46</td>\n",
       "      <td>amurfond@mail.ru</td>\n",
       "    </tr>\n",
       "    <tr>\n",
       "      <th>90</th>\n",
       "      <td>НО \"ФРБ\"</td>\n",
       "      <td>Томская, Томск, Московский, 12, 634050</td>\n",
       "      <td>http://mb.tomsk.ru/</td>\n",
       "      <td>+7 3822 901 000</td>\n",
       "      <td>tomsk.cpp@mb.tomsk.ru</td>\n",
       "    </tr>\n",
       "    <tr>\n",
       "      <th>91</th>\n",
       "      <td>ГОАУ \"АРНО\"</td>\n",
       "      <td>Новгородская обл, г Великий Новгород, ул Фёдор...</td>\n",
       "      <td>http://mb53.ru/</td>\n",
       "      <td>8 800 550 11 88</td>\n",
       "      <td>info@mb53.ru</td>\n",
       "    </tr>\n",
       "    <tr>\n",
       "      <th>92</th>\n",
       "      <td>Инвестиционное агентство</td>\n",
       "      <td>Тюменская область, Тюмень, Хохрякова, 53, 625000</td>\n",
       "      <td>http://iato.ru/</td>\n",
       "      <td>8 (3452) 50-76-33</td>\n",
       "      <td>recept@iato.ru</td>\n",
       "    </tr>\n",
       "    <tr>\n",
       "      <th>93</th>\n",
       "      <td>ГАУ АИРПКО</td>\n",
       "      <td>Костромская область, Кострома, Локомотивная, 2...</td>\n",
       "      <td>https://moybusiness44.ru/</td>\n",
       "      <td>+7 494 242-20-92</td>\n",
       "      <td>arpko@mail.ru</td>\n",
       "    </tr>\n",
       "  </tbody>\n",
       "</table>\n",
       "<p>94 rows × 5 columns</p>\n",
       "</div>"
      ],
      "text/plain": [
       "                                             название  \\\n",
       "0                                                       \n",
       "1                                        АНО \"ЦПП РА\"   \n",
       "2                                     АНО \"ККЦРБ МКК\"   \n",
       "3                             ГАУ БО ЦОУ «Мой бизнес»   \n",
       "4                                    Фонд СОФПП (МКК)   \n",
       "..                                                ...   \n",
       "89  Фонд содействия кредитованию СМСП Амурской обл...   \n",
       "90                                           НО \"ФРБ\"   \n",
       "91                                        ГОАУ \"АРНО\"   \n",
       "92                           Инвестиционное агентство   \n",
       "93                                         ГАУ АИРПКО   \n",
       "\n",
       "                                                адрес  \\\n",
       "0                                                       \n",
       "1   Республика Адыгея, Майкоп, Пионерская, 324, 38...   \n",
       "2   Красноярский край, Красноярск, Александра Матр...   \n",
       "3              Брянская, Брянск, Бежицкая, 54, 241023   \n",
       "4   Свердловская область, Екатеринбург, Восточная,...   \n",
       "..                                                ...   \n",
       "89  Амурская обл, г Благовещенск, ул Амурская, 38,...   \n",
       "90             Томская, Томск, Московский, 12, 634050   \n",
       "91  Новгородская обл, г Великий Новгород, ул Фёдор...   \n",
       "92   Тюменская область, Тюмень, Хохрякова, 53, 625000   \n",
       "93  Костромская область, Кострома, Локомотивная, 2...   \n",
       "\n",
       "                                      сайт                    телефон  \\\n",
       "0     http://xn--01-9kcqjffxnf3b.xn--p1ai/                              \n",
       "1     http://xn--01-9kcqjffxnf3b.xn--p1ai/                88002010175   \n",
       "2   http://xn---24-9cdulgg0aog6b.xn--p1ai/  +7 391 205-44-32 доб. 046   \n",
       "3    https://xn--32-9kcqjffxnf3b.xn--p1ai/         +7 (4832) 58-92-77   \n",
       "4                          http://sofp.ru/           +7 343 288-77-85   \n",
       "..                                     ...                        ...   \n",
       "89        http://www.business.amurobl.ru./           +7 416 277-26-46   \n",
       "90                     http://mb.tomsk.ru/            +7 3822 901 000   \n",
       "91                         http://mb53.ru/            8 800 550 11 88   \n",
       "92                         http://iato.ru/          8 (3452) 50-76-33   \n",
       "93               https://moybusiness44.ru/           +7 494 242-20-92   \n",
       "\n",
       "                    почта  \n",
       "0                          \n",
       "1          cpp_01@mail.ru  \n",
       "2         mb-info@mb24.ru  \n",
       "3         info@mybiz32.ru  \n",
       "4             sof@sofp.ru  \n",
       "..                    ...  \n",
       "89       amurfond@mail.ru  \n",
       "90  tomsk.cpp@mb.tomsk.ru  \n",
       "91           info@mb53.ru  \n",
       "92         recept@iato.ru  \n",
       "93          arpko@mail.ru  \n",
       "\n",
       "[94 rows x 5 columns]"
      ]
     },
     "execution_count": 10,
     "metadata": {},
     "output_type": "execute_result"
    }
   ],
   "source": [
    "df"
   ]
  },
  {
   "cell_type": "code",
   "execution_count": 11,
   "id": "7f73ab98",
   "metadata": {},
   "outputs": [],
   "source": [
    "df.to_excel(\"list_business_support_representatives.xlsx\")"
   ]
  },
  {
   "cell_type": "code",
   "execution_count": null,
   "id": "3ea8688e",
   "metadata": {},
   "outputs": [],
   "source": []
  }
 ],
 "metadata": {
  "kernelspec": {
   "display_name": "Python 3 (ipykernel)",
   "language": "python",
   "name": "python3"
  },
  "language_info": {
   "codemirror_mode": {
    "name": "ipython",
    "version": 3
   },
   "file_extension": ".py",
   "mimetype": "text/x-python",
   "name": "python",
   "nbconvert_exporter": "python",
   "pygments_lexer": "ipython3",
   "version": "3.9.6"
  }
 },
 "nbformat": 4,
 "nbformat_minor": 5
}
