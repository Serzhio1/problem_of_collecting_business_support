{
 "cells": [
  {
   "cell_type": "code",
   "execution_count": 1,
   "id": "6c40d108",
   "metadata": {},
   "outputs": [],
   "source": [
    "from selenium.webdriver import Chrome\n",
    "from selenium.webdriver.common.keys import Keys\n",
    "from selenium.webdriver.support.ui import WebDriverWait as wait\n",
    "from selenium.webdriver.support import expected_conditions as EC\n",
    "from selenium.common.exceptions import NoSuchElementException\n",
    "from selenium.webdriver.common.by import By\n",
    "from selenium.webdriver.common.action_chains import ActionChains\n",
    "from bs4 import BeautifulSoup\n",
    "import requests\n",
    "import pandas as pd\n",
    "from tqdm import tqdm \n",
    "from time import sleep"
   ]
  },
  {
   "cell_type": "markdown",
   "id": "ad336434",
   "metadata": {},
   "source": [
    "**собираем названия всех региональных центров с 2-ух источников**"
   ]
  },
  {
   "cell_type": "code",
   "execution_count": 2,
   "id": "6c8b4328",
   "metadata": {},
   "outputs": [
    {
     "name": "stdout",
     "output_type": "stream",
     "text": [
      "{'Красноярск', 'Ярославль', 'Ханты-мансийск', 'Магадан', 'Салехард', 'Кызыл', 'Нижний Новгород', 'Киров', 'Казань', 'Иркутск', 'Хабаровск', 'Магас', 'Тамбов', 'Сыктывкар', 'Брянск', 'Ижевск', 'Петрозаводск', 'Челябиннск', 'Вологда', 'Благовещенск', 'Иваново', 'Элиста', 'Калуга', 'Йошкар-Ола', 'Абакан', 'Якутск', 'Ростов', 'Ставрополь', 'Владивосток', 'Кострома', 'Ульяновск', 'Саратов', 'Анадырь', 'Санкт-Петербург', 'Южно-Сахалинск', 'Саранск', 'Тула', 'Барнаул', 'Воронеж', 'Псков', 'Майкоп', 'Уфа', 'Екатеринбург', 'Биробиджан', 'Самара', 'Волгоград', 'Пермь', 'Владимир', 'Черкесск', 'Томск', 'Курган', 'Рязань', 'Нальчик', 'Владивкавказ', 'Калининград', 'Грозный', 'Кемерово', 'Тюмень', 'Улан-Удэ', 'Великий Новгород', 'Оренбург', 'Новосибирск', 'Липецк', 'Чита', 'Омск', 'Москва', 'Орел', 'Мурманск', 'Тверь', 'Пенза', 'Махачкала', 'Смоленск', 'Белгород', 'Краснодар', 'Горно-Алтайск', 'Чебоксары', 'Архангельск', 'Петропавловск-Камчатский', 'Курск', 'Астрахань'}\n",
      "\n",
      "80\n"
     ]
    }
   ],
   "source": [
    "# собираем названия регионалльных центров с 1-ого источника: https://marketing-course.ru/administrativnye-centry-regionov/\n",
    "regional_centers_1 = set() # множество, т.к. у некоторых различных регионов одинаковые центры \n",
    "my_response = requests.get('https://marketing-course.ru/administrativnye-centry-regionov/').text\n",
    "soup = BeautifulSoup(my_response, 'lxml')\n",
    "table = soup.find_all('table')[0]\n",
    "list_regions_info = table.find_all('tr')[1:]\n",
    "for region in list_regions_info:\n",
    "    title_regional_center = region.find_all('td')[3].text\n",
    "    regional_centers_1.add(title_regional_center)\n",
    "print(regional_centers_1, end=\"\\n\\n\")\n",
    "print(len(regional_centers_1))"
   ]
  },
  {
   "cell_type": "code",
   "execution_count": 3,
   "id": "8d5e654c",
   "metadata": {},
   "outputs": [
    {
     "name": "stdout",
     "output_type": "stream",
     "text": [
      "{'Красноярск', 'Дудинка', 'Ярославль', 'Магадан', 'Кызыл', 'Салехард', 'Нижний Новгород', 'Киров', 'Казань', 'Иркутск', 'Хабаровск', 'Сыктывкар', 'Тамбов', 'Брянск', 'Ижевск', 'Нарьян-Мар', 'Петрозаводск', 'Вологда', 'Иваново', 'Благовещенск', 'Элиста', 'Калуга', 'Йошкар-Ола', 'Абакан', 'Якутск', 'Ставрополь', 'Владивосток', 'Кострома', 'Ульяновск', 'Саратов', 'пгт Палана', 'Анадырь', 'Санкт-Петербург', 'Южно-Сахалинск', 'Саранск', 'Тула', 'Барнаул', 'Воронеж', 'Псков', 'Владикавказ', 'Майкоп', 'Уфа', 'Екатеринбург', 'Биробиджан', 'Самара', 'Пермь', 'Волгоград', 'Владимир', 'Черкесск', 'Томск', 'Курган', 'Рязань', 'Нальчик', 'Калининград', 'Грозный', 'Кемерово', 'Тюмень', 'Улан-Удэ', 'Оренбург', 'Новосибирск', 'Липецк', 'Чита', 'Ханты-Мансийск', 'Омск', 'Москва', 'Орел', 'пгт Агинское', 'пгт Усть-Ордынский', 'пгт Тура', 'Челябинск', 'Мурманск', 'Пенза', 'Тверь', 'Назрань', 'Махачкала', 'Новгород', 'Смоленск', 'Белгород', 'Ростов-на-Дону', 'Краснодар', 'Горно-Алтайск', 'Кудымкар', 'Чебоксары', 'Архангельск', 'Петропавловск-Камчатский', 'Курск', 'Астрахань'}\n",
      "\n",
      "87\n"
     ]
    }
   ],
   "source": [
    "# собираем названия регионалльных центров со 2-ого источника: https://se33.ru/2-uncategorised/378-regions.html\n",
    "regional_centers_2 = set() \n",
    "my_response = requests.get('https://se33.ru/2-uncategorised/378-regions.html').text\n",
    "soup = BeautifulSoup(my_response, 'lxml')\n",
    "table = soup.find('table')\n",
    "list_regions_info = table.find_all('tr')[1:]\n",
    "for region in list_regions_info:\n",
    "    title_regional_center = region.find_all('td')[3].text\n",
    "    regional_centers_2.add(title_regional_center)\n",
    "print(regional_centers_2, end=\"\\n\\n\")\n",
    "print(len(regional_centers_2))"
   ]
  },
  {
   "cell_type": "markdown",
   "id": "c153880c",
   "metadata": {},
   "source": [
    "**объединяем оба множества (union)**"
   ]
  },
  {
   "cell_type": "code",
   "execution_count": 4,
   "id": "b322a3bb",
   "metadata": {},
   "outputs": [
    {
     "name": "stdout",
     "output_type": "stream",
     "text": [
      "{'Красноярск', 'Дудинка', 'Ярославль', 'Ханты-мансийск', 'Магадан', 'Салехард', 'Кызыл', 'Нижний Новгород', 'Киров', 'Казань', 'Иркутск', 'Хабаровск', 'Магас', 'Тамбов', 'Сыктывкар', 'Брянск', 'Ижевск', 'Нарьян-Мар', 'Петрозаводск', 'Челябиннск', 'Вологда', 'Благовещенск', 'Иваново', 'Элиста', 'Калуга', 'Йошкар-Ола', 'Абакан', 'Якутск', 'Ростов', 'Ставрополь', 'Владивосток', 'Кострома', 'Ульяновск', 'Саратов', 'пгт Палана', 'Анадырь', 'Санкт-Петербург', 'Южно-Сахалинск', 'Саранск', 'Тула', 'Барнаул', 'Воронеж', 'Псков', 'Владикавказ', 'Майкоп', 'Уфа', 'Екатеринбург', 'Биробиджан', 'Самара', 'Пермь', 'Волгоград', 'Владимир', 'Черкесск', 'Томск', 'Курган', 'Рязань', 'Нальчик', 'Владивкавказ', 'Калининград', 'Грозный', 'Кемерово', 'Тюмень', 'Улан-Удэ', 'Великий Новгород', 'Оренбург', 'Новосибирск', 'Липецк', 'Чита', 'Ханты-Мансийск', 'Омск', 'Москва', 'Орел', 'пгт Агинское', 'пгт Усть-Ордынский', 'пгт Тура', 'Челябинск', 'Мурманск', 'Тверь', 'Пенза', 'Назрань', 'Махачкала', 'Новгород', 'Смоленск', 'Белгород', 'Ростов-на-Дону', 'Краснодар', 'Горно-Алтайск', 'Кудымкар', 'Чебоксары', 'Архангельск', 'Петропавловск-Камчатский', 'Курск', 'Астрахань'}\n",
      "\n",
      "93\n"
     ]
    }
   ],
   "source": [
    "all_regional_centers = regional_centers_1.union(regional_centers_2)\n",
    "print(all_regional_centers, end='\\n\\n')\n",
    "print(len(all_regional_centers))"
   ]
  },
  {
   "cell_type": "code",
   "execution_count": 5,
   "id": "f615f590",
   "metadata": {},
   "outputs": [],
   "source": [
    "titles = []\n",
    "adresses = []\n",
    "websites = []\n",
    "phone_numbers = []\n",
    "emails = []"
   ]
  },
  {
   "cell_type": "code",
   "execution_count": 6,
   "id": "a36e7c12",
   "metadata": {},
   "outputs": [],
   "source": [
    "def input_info(): # поиск информации\n",
    "    input_tab = browser.find_element(By.XPATH, \"/html/body/div[2]/div[2]/div[2]/div[2]/div[2]/div[2]/div/div/input\")\n",
    "    input_tab.send_keys(regional_center)\n",
    "    \n",
    "def click_search_button(): # нажатие на кнопку поиска\n",
    "    search_button = browser.find_element(By.XPATH, \"/html/body/div[2]/div[2]/div[2]/div[2]/div[2]/div[2]/div/div/button[2]\")\n",
    "    search_button.click()\n",
    "\n",
    "def click_clear_info_button(): # нажатие на кнопку удаления текста в области поиска\n",
    "    clear_info_button = browser.find_element(By.XPATH, '/html/body/div[2]/div[2]/div[2]/div[2]/div[2]/div[2]/div/div/button[1]')\n",
    "    clear_info_button.click()\n",
    "    \n",
    "    \n",
    "def collect_data(): # сбор всех данных(адрес, сайт, телефон, почта) с найденного представителя поддержки бизнеса \n",
    "    try:\n",
    "        title = browser.find_element(By.XPATH, '//*[@id=\"map\"]/div[1]/div[6]/div/div/div/div/div/div/div').text\n",
    "        adress = browser.find_element(By.XPATH, '//*[@id=\"map\"]/div[1]/div[6]/div/div/div/div/div/div/table/tbody/tr[1]/td[2]').text\n",
    "        website = browser.find_element(By.XPATH, '//*[@id=\"map\"]/div[1]/div[6]/div/div/div/div/div/div/table/tbody/tr[2]/td[2]/a').get_attribute('href')\n",
    "        phone = browser.find_element(By.XPATH, '//*[@id=\"map\"]/div[1]/div[6]/div/div/div/div/div/div/table/tbody/tr[3]/td[2]').text\n",
    "        email = browser.find_element(By.XPATH, '//*[@id=\"map\"]/div[1]/div[6]/div/div/div/div/div/div/table/tbody/tr[4]/td[2]/a').text\n",
    "    except NoSuchElementException:\n",
    "        title = None\n",
    "        adress = None\n",
    "        website = None\n",
    "        phone = None\n",
    "        email = None \n",
    "    titles.append(title)\n",
    "    adresses.append(adress)\n",
    "    websites.append(website)\n",
    "    phone_numbers.append(phone)\n",
    "    emails.append(email)"
   ]
  },
  {
   "cell_type": "code",
   "execution_count": 7,
   "id": "8aabc35d",
   "metadata": {},
   "outputs": [],
   "source": [
    "browser = Chrome()\n",
    "url = 'https://xn--l1agf.xn--p1ai/services/reg-support-map/'\n",
    "browser.maximize_window() \n",
    "browser.get(url)\n",
    "sleep(1) # пауза, чтобы страницы успела прогрузиться \n",
    "for regional_center in all_regional_centers:\n",
    "    input_info()\n",
    "    click_search_button()\n",
    "    sleep(0.8)\n",
    "    collect_data()\n",
    "    click_clear_info_button()"
   ]
  },
  {
   "cell_type": "code",
   "execution_count": 8,
   "id": "2c1c3932",
   "metadata": {},
   "outputs": [],
   "source": [
    "data = {'название': titles, 'адрес': adresses, 'сайт': websites, 'телефон': phone_numbers, 'почта': emails}\n",
    "df = pd.DataFrame(data=data)"
   ]
  },
  {
   "cell_type": "code",
   "execution_count": 9,
   "id": "713be8e3",
   "metadata": {},
   "outputs": [
    {
     "data": {
      "text/html": [
       "<div>\n",
       "<style scoped>\n",
       "    .dataframe tbody tr th:only-of-type {\n",
       "        vertical-align: middle;\n",
       "    }\n",
       "\n",
       "    .dataframe tbody tr th {\n",
       "        vertical-align: top;\n",
       "    }\n",
       "\n",
       "    .dataframe thead th {\n",
       "        text-align: right;\n",
       "    }\n",
       "</style>\n",
       "<table border=\"1\" class=\"dataframe\">\n",
       "  <thead>\n",
       "    <tr style=\"text-align: right;\">\n",
       "      <th></th>\n",
       "      <th>название</th>\n",
       "      <th>адрес</th>\n",
       "      <th>сайт</th>\n",
       "      <th>телефон</th>\n",
       "      <th>почта</th>\n",
       "    </tr>\n",
       "  </thead>\n",
       "  <tbody>\n",
       "    <tr>\n",
       "      <th>0</th>\n",
       "      <td>АНО \"ККЦРБ МКК\"</td>\n",
       "      <td>Красноярский край, Красноярск, Александра Матр...</td>\n",
       "      <td>http://xn---24-9cdulgg0aog6b.xn--p1ai/</td>\n",
       "      <td>+7 391 205-44-32 доб. 046</td>\n",
       "      <td>mb-info@mb24.ru</td>\n",
       "    </tr>\n",
       "    <tr>\n",
       "      <th>1</th>\n",
       "      <td>None</td>\n",
       "      <td>None</td>\n",
       "      <td>None</td>\n",
       "      <td>None</td>\n",
       "      <td>None</td>\n",
       "    </tr>\n",
       "    <tr>\n",
       "      <th>2</th>\n",
       "      <td>ГБУ ЯО \"Корпорация развития МСП\"</td>\n",
       "      <td>Ярославская обл, г Ярославль, ул Свердлова, 25...</td>\n",
       "      <td>http://corpmsp76.ru/</td>\n",
       "      <td>+7 (4852) 370-401</td>\n",
       "      <td>Info@corpmsp76.ru</td>\n",
       "    </tr>\n",
       "    <tr>\n",
       "      <th>3</th>\n",
       "      <td>Фонд «Мой Бизнес»</td>\n",
       "      <td>Ханты-Мансийский автономный округ - Югра, Хант...</td>\n",
       "      <td>http://xn--90aefhe5axg6g1a.xn--p1ai/</td>\n",
       "      <td>+7 346 738-84-00</td>\n",
       "      <td>info@mb-ugra.ru</td>\n",
       "    </tr>\n",
       "    <tr>\n",
       "      <th>4</th>\n",
       "      <td>Фонд развития предпринимательства</td>\n",
       "      <td>Магаданская, Магадан, Карла Маркса, 60А, 685000</td>\n",
       "      <td>https://xn--80aaakdd6cghb9d.xn--p1ai/</td>\n",
       "      <td>+74132609828</td>\n",
       "      <td>fondmagadan@yandex.ru</td>\n",
       "    </tr>\n",
       "    <tr>\n",
       "      <th>...</th>\n",
       "      <td>...</td>\n",
       "      <td>...</td>\n",
       "      <td>...</td>\n",
       "      <td>...</td>\n",
       "      <td>...</td>\n",
       "    </tr>\n",
       "    <tr>\n",
       "      <th>88</th>\n",
       "      <td>АНО МКК «АПМБ»</td>\n",
       "      <td>Чувашская Республика, город Чебоксары, проспек...</td>\n",
       "      <td>http://xn--80ac6al.xn--p1ai/</td>\n",
       "      <td>+7 835 248-96-66</td>\n",
       "      <td>mail@mb21.ru</td>\n",
       "    </tr>\n",
       "    <tr>\n",
       "      <th>89</th>\n",
       "      <td>АНО АО \"АГЕНТСТВО РЕГИОНАЛЬНОГО РАЗВИТИЯ\"</td>\n",
       "      <td>Архангельская, Архангельск, Северной Двины, 71...</td>\n",
       "      <td>https://msp29.ru/ru/</td>\n",
       "      <td>+7 800 100 7000</td>\n",
       "      <td>office@msp29.ru</td>\n",
       "    </tr>\n",
       "    <tr>\n",
       "      <th>90</th>\n",
       "      <td>None</td>\n",
       "      <td>None</td>\n",
       "      <td>None</td>\n",
       "      <td>None</td>\n",
       "      <td>None</td>\n",
       "    </tr>\n",
       "    <tr>\n",
       "      <th>91</th>\n",
       "      <td>АНО \"ЦМБ КО\"</td>\n",
       "      <td>Курская область, курск, Горького, 34, 305000</td>\n",
       "      <td>https://xn--46-9kc7b.xn--p1ai/</td>\n",
       "      <td>+7(4712) 54-07-06</td>\n",
       "      <td>info@cpp46.ru</td>\n",
       "    </tr>\n",
       "    <tr>\n",
       "      <th>92</th>\n",
       "      <td>АУ АО \"АОИЦ\"</td>\n",
       "      <td>Астраханская обл, г Астрахань, ул Ульяновых, 1...</td>\n",
       "      <td>http://mb30.ru/</td>\n",
       "      <td>+7 8512 48-07-93</td>\n",
       "      <td>mb@mb30.ru</td>\n",
       "    </tr>\n",
       "  </tbody>\n",
       "</table>\n",
       "<p>93 rows × 5 columns</p>\n",
       "</div>"
      ],
      "text/plain": [
       "                                     название  \\\n",
       "0                             АНО \"ККЦРБ МКК\"   \n",
       "1                                        None   \n",
       "2            ГБУ ЯО \"Корпорация развития МСП\"   \n",
       "3                           Фонд «Мой Бизнес»   \n",
       "4           Фонд развития предпринимательства   \n",
       "..                                        ...   \n",
       "88                             АНО МКК «АПМБ»   \n",
       "89  АНО АО \"АГЕНТСТВО РЕГИОНАЛЬНОГО РАЗВИТИЯ\"   \n",
       "90                                       None   \n",
       "91                               АНО \"ЦМБ КО\"   \n",
       "92                               АУ АО \"АОИЦ\"   \n",
       "\n",
       "                                                адрес  \\\n",
       "0   Красноярский край, Красноярск, Александра Матр...   \n",
       "1                                                None   \n",
       "2   Ярославская обл, г Ярославль, ул Свердлова, 25...   \n",
       "3   Ханты-Мансийский автономный округ - Югра, Хант...   \n",
       "4     Магаданская, Магадан, Карла Маркса, 60А, 685000   \n",
       "..                                                ...   \n",
       "88  Чувашская Республика, город Чебоксары, проспек...   \n",
       "89  Архангельская, Архангельск, Северной Двины, 71...   \n",
       "90                                               None   \n",
       "91       Курская область, курск, Горького, 34, 305000   \n",
       "92  Астраханская обл, г Астрахань, ул Ульяновых, 1...   \n",
       "\n",
       "                                      сайт                    телефон  \\\n",
       "0   http://xn---24-9cdulgg0aog6b.xn--p1ai/  +7 391 205-44-32 доб. 046   \n",
       "1                                     None                       None   \n",
       "2                     http://corpmsp76.ru/          +7 (4852) 370-401   \n",
       "3     http://xn--90aefhe5axg6g1a.xn--p1ai/           +7 346 738-84-00   \n",
       "4    https://xn--80aaakdd6cghb9d.xn--p1ai/               +74132609828   \n",
       "..                                     ...                        ...   \n",
       "88            http://xn--80ac6al.xn--p1ai/           +7 835 248-96-66   \n",
       "89                    https://msp29.ru/ru/            +7 800 100 7000   \n",
       "90                                    None                       None   \n",
       "91          https://xn--46-9kc7b.xn--p1ai/          +7(4712) 54-07-06   \n",
       "92                         http://mb30.ru/           +7 8512 48-07-93   \n",
       "\n",
       "                    почта  \n",
       "0         mb-info@mb24.ru  \n",
       "1                    None  \n",
       "2       Info@corpmsp76.ru  \n",
       "3         info@mb-ugra.ru  \n",
       "4   fondmagadan@yandex.ru  \n",
       "..                    ...  \n",
       "88           mail@mb21.ru  \n",
       "89        office@msp29.ru  \n",
       "90                   None  \n",
       "91          info@cpp46.ru  \n",
       "92             mb@mb30.ru  \n",
       "\n",
       "[93 rows x 5 columns]"
      ]
     },
     "execution_count": 9,
     "metadata": {},
     "output_type": "execute_result"
    }
   ],
   "source": [
    "df"
   ]
  },
  {
   "cell_type": "code",
   "execution_count": null,
   "id": "7f73ab98",
   "metadata": {},
   "outputs": [],
   "source": []
  }
 ],
 "metadata": {
  "kernelspec": {
   "display_name": "Python 3 (ipykernel)",
   "language": "python",
   "name": "python3"
  },
  "language_info": {
   "codemirror_mode": {
    "name": "ipython",
    "version": 3
   },
   "file_extension": ".py",
   "mimetype": "text/x-python",
   "name": "python",
   "nbconvert_exporter": "python",
   "pygments_lexer": "ipython3",
   "version": "3.9.6"
  }
 },
 "nbformat": 4,
 "nbformat_minor": 5
}
